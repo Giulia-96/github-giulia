{
  "nbformat": 4,
  "nbformat_minor": 0,
  "metadata": {
    "kernelspec": {
      "display_name": "Python 3",
      "language": "python",
      "name": "python3"
    },
    "language_info": {
      "codemirror_mode": {
        "name": "ipython",
        "version": 3
      },
      "file_extension": ".py",
      "mimetype": "text/x-python",
      "name": "python",
      "nbconvert_exporter": "python",
      "pygments_lexer": "ipython3",
      "version": "3.8.3"
    },
    "colab": {
      "name": "FOOTBALL.ipynb",
      "provenance": [],
      "collapsed_sections": [
        "v2otVqQtPyKy"
      ],
      "include_colab_link": true
    }
  },
  "cells": [
    {
      "cell_type": "markdown",
      "metadata": {
        "id": "view-in-github",
        "colab_type": "text"
      },
      "source": [
        "<a href=\"https://colab.research.google.com/github/Giulia-96/github-giulia/blob/master/FOOTBALL.ipynb\" target=\"_parent\"><img src=\"https://colab.research.google.com/assets/colab-badge.svg\" alt=\"Open In Colab\"/></a>"
      ]
    },
    {
      "cell_type": "markdown",
      "metadata": {
        "id": "HWhcXbkkPyJv"
      },
      "source": [
        "# Intro"
      ]
    },
    {
      "cell_type": "markdown",
      "metadata": {
        "id": "B-2JbYMyPyJx"
      },
      "source": [
        "## Librerie"
      ]
    },
    {
      "cell_type": "code",
      "metadata": {
        "ExecuteTime": {
          "end_time": "2020-11-07T15:04:27.039354Z",
          "start_time": "2020-11-07T15:04:22.380Z"
        },
        "id": "F3jqSSGYPyJx"
      },
      "source": [
        "from pathlib import Path\n",
        "\n",
        "import pandas as pd\n",
        "import matplotlib\n",
        "import matplotlib.pyplot as plt\n",
        "import numpy as np\n",
        "import seaborn as sns\n",
        "from sklearn import preprocessing\n",
        "from sklearn.impute import SimpleImputer \n",
        "\n",
        "\n",
        "from sklearn.ensemble import RandomForestClassifier\n",
        "from sklearn.tree import DecisionTreeClassifier\n",
        "\n",
        "\n",
        "from sklearn.metrics import accuracy_score\n",
        "\n",
        "from sklearn.metrics import classification_report\n",
        "from sklearn.metrics import precision_score\n",
        "from sklearn.model_selection import cross_val_score\n",
        "from sklearn.metrics import confusion_matrix\n",
        "from sklearn.metrics import recall_score\n",
        "\n",
        "from sklearn import model_selection\n",
        "\n",
        "%matplotlib inline\n",
        "sns.set()\n",
        "\n",
        "import bisect\n",
        "from bisect import bisect_left\n",
        "\n",
        "import xgboost as xgb\n",
        "from xgboost import XGBClassifier\n",
        "\n",
        "from matplotlib import pyplot as plt\n",
        "import matplotlib.pyplot as plt\n",
        "\n",
        "from sklearn.datasets import make_classification\n",
        "from sklearn.ensemble import ExtraTreesClassifier"
      ],
      "execution_count": 7,
      "outputs": []
    },
    {
      "cell_type": "code",
      "metadata": {
        "ExecuteTime": {
          "end_time": "2020-11-07T15:04:27.050722Z",
          "start_time": "2020-11-07T15:04:22.544Z"
        },
        "id": "rCImhZ3_PyJ4",
        "outputId": "86e948db-d7cc-4e4f-b034-a651a522cf72",
        "colab": {
          "base_uri": "https://localhost:8080/",
          "height": 1000
        }
      },
      "source": [
        "!pip install fastai\n",
        "import fastai \n",
        "from fastai.tabular.all import *"
      ],
      "execution_count": 2,
      "outputs": [
        {
          "output_type": "stream",
          "text": [
            "Requirement already satisfied: fastai in /usr/local/lib/python3.6/dist-packages (1.0.61)\n",
            "Requirement already satisfied: fastprogress>=0.2.1 in /usr/local/lib/python3.6/dist-packages (from fastai) (1.0.0)\n",
            "Requirement already satisfied: bottleneck in /usr/local/lib/python3.6/dist-packages (from fastai) (1.3.2)\n",
            "Requirement already satisfied: numexpr in /usr/local/lib/python3.6/dist-packages (from fastai) (2.7.1)\n",
            "Requirement already satisfied: pyyaml in /usr/local/lib/python3.6/dist-packages (from fastai) (3.13)\n",
            "Requirement already satisfied: torchvision in /usr/local/lib/python3.6/dist-packages (from fastai) (0.8.1+cu101)\n",
            "Requirement already satisfied: nvidia-ml-py3 in /usr/local/lib/python3.6/dist-packages (from fastai) (7.352.0)\n",
            "Requirement already satisfied: dataclasses; python_version < \"3.7\" in /usr/local/lib/python3.6/dist-packages (from fastai) (0.7)\n",
            "Requirement already satisfied: spacy>=2.0.18; python_version < \"3.8\" in /usr/local/lib/python3.6/dist-packages (from fastai) (2.2.4)\n",
            "Requirement already satisfied: scipy in /usr/local/lib/python3.6/dist-packages (from fastai) (1.4.1)\n",
            "Requirement already satisfied: packaging in /usr/local/lib/python3.6/dist-packages (from fastai) (20.4)\n",
            "Requirement already satisfied: beautifulsoup4 in /usr/local/lib/python3.6/dist-packages (from fastai) (4.6.3)\n",
            "Requirement already satisfied: requests in /usr/local/lib/python3.6/dist-packages (from fastai) (2.23.0)\n",
            "Requirement already satisfied: torch>=1.0.0 in /usr/local/lib/python3.6/dist-packages (from fastai) (1.7.0+cu101)\n",
            "Requirement already satisfied: numpy>=1.15 in /usr/local/lib/python3.6/dist-packages (from fastai) (1.18.5)\n",
            "Requirement already satisfied: pandas in /usr/local/lib/python3.6/dist-packages (from fastai) (1.1.4)\n",
            "Requirement already satisfied: matplotlib in /usr/local/lib/python3.6/dist-packages (from fastai) (3.2.2)\n",
            "Requirement already satisfied: Pillow in /usr/local/lib/python3.6/dist-packages (from fastai) (7.0.0)\n",
            "Requirement already satisfied: preshed<3.1.0,>=3.0.2 in /usr/local/lib/python3.6/dist-packages (from spacy>=2.0.18; python_version < \"3.8\"->fastai) (3.0.2)\n",
            "Requirement already satisfied: plac<1.2.0,>=0.9.6 in /usr/local/lib/python3.6/dist-packages (from spacy>=2.0.18; python_version < \"3.8\"->fastai) (1.1.3)\n",
            "Requirement already satisfied: srsly<1.1.0,>=1.0.2 in /usr/local/lib/python3.6/dist-packages (from spacy>=2.0.18; python_version < \"3.8\"->fastai) (1.0.2)\n",
            "Requirement already satisfied: tqdm<5.0.0,>=4.38.0 in /usr/local/lib/python3.6/dist-packages (from spacy>=2.0.18; python_version < \"3.8\"->fastai) (4.41.1)\n",
            "Requirement already satisfied: catalogue<1.1.0,>=0.0.7 in /usr/local/lib/python3.6/dist-packages (from spacy>=2.0.18; python_version < \"3.8\"->fastai) (1.0.0)\n",
            "Requirement already satisfied: murmurhash<1.1.0,>=0.28.0 in /usr/local/lib/python3.6/dist-packages (from spacy>=2.0.18; python_version < \"3.8\"->fastai) (1.0.3)\n",
            "Requirement already satisfied: setuptools in /usr/local/lib/python3.6/dist-packages (from spacy>=2.0.18; python_version < \"3.8\"->fastai) (50.3.2)\n",
            "Requirement already satisfied: blis<0.5.0,>=0.4.0 in /usr/local/lib/python3.6/dist-packages (from spacy>=2.0.18; python_version < \"3.8\"->fastai) (0.4.1)\n",
            "Requirement already satisfied: wasabi<1.1.0,>=0.4.0 in /usr/local/lib/python3.6/dist-packages (from spacy>=2.0.18; python_version < \"3.8\"->fastai) (0.8.0)\n",
            "Requirement already satisfied: thinc==7.4.0 in /usr/local/lib/python3.6/dist-packages (from spacy>=2.0.18; python_version < \"3.8\"->fastai) (7.4.0)\n",
            "Requirement already satisfied: cymem<2.1.0,>=2.0.2 in /usr/local/lib/python3.6/dist-packages (from spacy>=2.0.18; python_version < \"3.8\"->fastai) (2.0.4)\n",
            "Requirement already satisfied: pyparsing>=2.0.2 in /usr/local/lib/python3.6/dist-packages (from packaging->fastai) (2.4.7)\n",
            "Requirement already satisfied: six in /usr/local/lib/python3.6/dist-packages (from packaging->fastai) (1.15.0)\n",
            "Requirement already satisfied: chardet<4,>=3.0.2 in /usr/local/lib/python3.6/dist-packages (from requests->fastai) (3.0.4)\n",
            "Requirement already satisfied: idna<3,>=2.5 in /usr/local/lib/python3.6/dist-packages (from requests->fastai) (2.10)\n",
            "Requirement already satisfied: urllib3!=1.25.0,!=1.25.1,<1.26,>=1.21.1 in /usr/local/lib/python3.6/dist-packages (from requests->fastai) (1.24.3)\n",
            "Requirement already satisfied: certifi>=2017.4.17 in /usr/local/lib/python3.6/dist-packages (from requests->fastai) (2020.6.20)\n",
            "Requirement already satisfied: typing-extensions in /usr/local/lib/python3.6/dist-packages (from torch>=1.0.0->fastai) (3.7.4.3)\n",
            "Requirement already satisfied: future in /usr/local/lib/python3.6/dist-packages (from torch>=1.0.0->fastai) (0.16.0)\n",
            "Requirement already satisfied: python-dateutil>=2.7.3 in /usr/local/lib/python3.6/dist-packages (from pandas->fastai) (2.8.1)\n",
            "Requirement already satisfied: pytz>=2017.2 in /usr/local/lib/python3.6/dist-packages (from pandas->fastai) (2018.9)\n",
            "Requirement already satisfied: kiwisolver>=1.0.1 in /usr/local/lib/python3.6/dist-packages (from matplotlib->fastai) (1.3.1)\n",
            "Requirement already satisfied: cycler>=0.10 in /usr/local/lib/python3.6/dist-packages (from matplotlib->fastai) (0.10.0)\n",
            "Requirement already satisfied: importlib-metadata>=0.20; python_version < \"3.8\" in /usr/local/lib/python3.6/dist-packages (from catalogue<1.1.0,>=0.0.7->spacy>=2.0.18; python_version < \"3.8\"->fastai) (2.0.0)\n",
            "Requirement already satisfied: zipp>=0.5 in /usr/local/lib/python3.6/dist-packages (from importlib-metadata>=0.20; python_version < \"3.8\"->catalogue<1.1.0,>=0.0.7->spacy>=2.0.18; python_version < \"3.8\"->fastai) (3.4.0)\n"
          ],
          "name": "stdout"
        },
        {
          "output_type": "error",
          "ename": "ModuleNotFoundError",
          "evalue": "ignored",
          "traceback": [
            "\u001b[0;31m---------------------------------------------------------------------------\u001b[0m",
            "\u001b[0;31mModuleNotFoundError\u001b[0m                       Traceback (most recent call last)",
            "\u001b[0;32m<ipython-input-2-4c1762068200>\u001b[0m in \u001b[0;36m<module>\u001b[0;34m()\u001b[0m\n\u001b[1;32m      1\u001b[0m \u001b[0mget_ipython\u001b[0m\u001b[0;34m(\u001b[0m\u001b[0;34m)\u001b[0m\u001b[0;34m.\u001b[0m\u001b[0msystem\u001b[0m\u001b[0;34m(\u001b[0m\u001b[0;34m'pip install fastai'\u001b[0m\u001b[0;34m)\u001b[0m\u001b[0;34m\u001b[0m\u001b[0;34m\u001b[0m\u001b[0m\n\u001b[1;32m      2\u001b[0m \u001b[0;32mimport\u001b[0m \u001b[0mfastai\u001b[0m\u001b[0;34m\u001b[0m\u001b[0;34m\u001b[0m\u001b[0m\n\u001b[0;32m----> 3\u001b[0;31m \u001b[0;32mfrom\u001b[0m \u001b[0mfastai\u001b[0m\u001b[0;34m.\u001b[0m\u001b[0mtabular\u001b[0m\u001b[0;34m.\u001b[0m\u001b[0mall\u001b[0m \u001b[0;32mimport\u001b[0m \u001b[0;34m*\u001b[0m\u001b[0;34m\u001b[0m\u001b[0;34m\u001b[0m\u001b[0m\n\u001b[0m",
            "\u001b[0;31mModuleNotFoundError\u001b[0m: No module named 'fastai.tabular.all'",
            "",
            "\u001b[0;31m---------------------------------------------------------------------------\u001b[0;32m\nNOTE: If your import is failing due to a missing package, you can\nmanually install dependencies using either !pip or !apt.\n\nTo view examples of installing some common dependencies, click the\n\"Open Examples\" button below.\n\u001b[0;31m---------------------------------------------------------------------------\u001b[0m\n"
          ]
        }
      ]
    },
    {
      "cell_type": "markdown",
      "metadata": {
        "id": "Kj3jQwfZPyJ6"
      },
      "source": [
        "## Dataset"
      ]
    },
    {
      "cell_type": "code",
      "metadata": {
        "id": "9U5UQFtdRIjP",
        "outputId": "3a1a7e01-ba78-49a3-a66e-93e7fea08b58",
        "colab": {
          "resources": {
            "http://localhost:8080/nbextensions/google.colab/files.js": {
              "data": "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",
              "ok": true,
              "headers": [
                [
                  "content-type",
                  "application/javascript"
                ]
              ],
              "status": 200,
              "status_text": ""
            }
          },
          "base_uri": "https://localhost:8080/",
          "height": 276
        }
      },
      "source": [
        "from google.colab import files\n",
        "uploaded = files.upload()"
      ],
      "execution_count": 8,
      "outputs": [
        {
          "output_type": "display_data",
          "data": {
            "text/html": [
              "\n",
              "     <input type=\"file\" id=\"files-1b99856f-9c40-4e47-9a05-132d9ecd09ad\" name=\"files[]\" multiple disabled\n",
              "        style=\"border:none\" />\n",
              "     <output id=\"result-1b99856f-9c40-4e47-9a05-132d9ecd09ad\">\n",
              "      Upload widget is only available when the cell has been executed in the\n",
              "      current browser session. Please rerun this cell to enable.\n",
              "      </output>\n",
              "      <script src=\"/nbextensions/google.colab/files.js\"></script> "
            ],
            "text/plain": [
              "<IPython.core.display.HTML object>"
            ]
          },
          "metadata": {
            "tags": []
          }
        },
        {
          "output_type": "stream",
          "text": [
            "Saving players_15.csv to players_15.csv\n",
            "Saving players_16.csv to players_16.csv\n",
            "Saving players_17.csv to players_17.csv\n",
            "Saving players_18.csv to players_18.csv\n",
            "Saving players_19.csv to players_19.csv\n",
            "Saving players_20.csv to players_20.csv\n",
            "Saving players_21.csv to players_21.csv\n"
          ],
          "name": "stdout"
        }
      ]
    },
    {
      "cell_type": "markdown",
      "metadata": {
        "id": "Y0zmdW-aPyJ7"
      },
      "source": [
        "a =\"/Users/Giulia/Desktop/archive (1)/Career Mode player datasets - FIFA 15-21.xlsx\"\n",
        "p15=\"/Users/Giulia/Desktop/archive (1)/players_15.csv\"\n",
        "p16=\"/Users/Giulia/Desktop/archive (1)/players_16.csv\"\n",
        "p17=\"/Users/Giulia/Desktop/archive (1)/players_17.csv\"\n",
        "p18=\"/Users/Giulia/Desktop/archive (1)/players_18.csv\"\n",
        "p19=\"/Users/Giulia/Desktop/archive (1)/players_19.csv\"\n",
        "p20=\"/Users/Giulia/Desktop/archive (1)/players_20.csv\"\n",
        "p21=\"/Users/Giulia/Desktop/archive (1)/players_21.csv\""
      ]
    },
    {
      "cell_type": "markdown",
      "metadata": {
        "id": "dqnPIK4pPyJ9"
      },
      "source": [
        "df15=pd.read_csv(p15)\n",
        "df16=pd.read_csv(p16)\n",
        "df17=pd.read_csv(p17)\n",
        "df18=pd.read_csv(p18)\n",
        "df19=pd.read_csv(p19)\n",
        "df20=pd.read_csv(p20)\n",
        "df21=pd.read_csv(p21)\n",
        "pd.set_option('display.max_columns', None)"
      ]
    },
    {
      "cell_type": "code",
      "metadata": {
        "id": "VRujnTmmSICv"
      },
      "source": [
        "import io\n",
        "df15 = pd.read_csv(io.BytesIO(uploaded['players_15.csv']))\n",
        "df16= pd.read_csv(io.BytesIO(uploaded['players_16.csv']))\n",
        "df17= pd.read_csv(io.BytesIO(uploaded['players_17.csv']))\n",
        "df18= pd.read_csv(io.BytesIO(uploaded['players_18.csv']))\n",
        "df19= pd.read_csv(io.BytesIO(uploaded['players_19.csv']))\n",
        "df20 = pd.read_csv(io.BytesIO(uploaded['players_20.csv']))\n",
        "df21 = pd.read_csv(io.BytesIO(uploaded['players_21.csv']))"
      ],
      "execution_count": 9,
      "outputs": []
    },
    {
      "cell_type": "code",
      "metadata": {
        "id": "XA7xxadIQw_N",
        "outputId": "52d69197-defc-4cdf-f8ea-7d1112824004",
        "colab": {
          "base_uri": "https://localhost:8080/",
          "height": 796
        }
      },
      "source": [
        "df15"
      ],
      "execution_count": 10,
      "outputs": [
        {
          "output_type": "execute_result",
          "data": {
            "text/html": [
              "<div>\n",
              "<style scoped>\n",
              "    .dataframe tbody tr th:only-of-type {\n",
              "        vertical-align: middle;\n",
              "    }\n",
              "\n",
              "    .dataframe tbody tr th {\n",
              "        vertical-align: top;\n",
              "    }\n",
              "\n",
              "    .dataframe thead th {\n",
              "        text-align: right;\n",
              "    }\n",
              "</style>\n",
              "<table border=\"1\" class=\"dataframe\">\n",
              "  <thead>\n",
              "    <tr style=\"text-align: right;\">\n",
              "      <th></th>\n",
              "      <th>sofifa_id</th>\n",
              "      <th>player_url</th>\n",
              "      <th>short_name</th>\n",
              "      <th>long_name</th>\n",
              "      <th>age</th>\n",
              "      <th>dob</th>\n",
              "      <th>height_cm</th>\n",
              "      <th>weight_kg</th>\n",
              "      <th>nationality</th>\n",
              "      <th>club_name</th>\n",
              "      <th>league_name</th>\n",
              "      <th>league_rank</th>\n",
              "      <th>overall</th>\n",
              "      <th>potential</th>\n",
              "      <th>value_eur</th>\n",
              "      <th>wage_eur</th>\n",
              "      <th>player_positions</th>\n",
              "      <th>preferred_foot</th>\n",
              "      <th>international_reputation</th>\n",
              "      <th>weak_foot</th>\n",
              "      <th>skill_moves</th>\n",
              "      <th>work_rate</th>\n",
              "      <th>body_type</th>\n",
              "      <th>real_face</th>\n",
              "      <th>release_clause_eur</th>\n",
              "      <th>player_tags</th>\n",
              "      <th>team_position</th>\n",
              "      <th>team_jersey_number</th>\n",
              "      <th>loaned_from</th>\n",
              "      <th>joined</th>\n",
              "      <th>contract_valid_until</th>\n",
              "      <th>nation_position</th>\n",
              "      <th>nation_jersey_number</th>\n",
              "      <th>pace</th>\n",
              "      <th>shooting</th>\n",
              "      <th>passing</th>\n",
              "      <th>dribbling</th>\n",
              "      <th>defending</th>\n",
              "      <th>physic</th>\n",
              "      <th>gk_diving</th>\n",
              "      <th>...</th>\n",
              "      <th>mentality_aggression</th>\n",
              "      <th>mentality_interceptions</th>\n",
              "      <th>mentality_positioning</th>\n",
              "      <th>mentality_vision</th>\n",
              "      <th>mentality_penalties</th>\n",
              "      <th>mentality_composure</th>\n",
              "      <th>defending_marking</th>\n",
              "      <th>defending_standing_tackle</th>\n",
              "      <th>defending_sliding_tackle</th>\n",
              "      <th>goalkeeping_diving</th>\n",
              "      <th>goalkeeping_handling</th>\n",
              "      <th>goalkeeping_kicking</th>\n",
              "      <th>goalkeeping_positioning</th>\n",
              "      <th>goalkeeping_reflexes</th>\n",
              "      <th>ls</th>\n",
              "      <th>st</th>\n",
              "      <th>rs</th>\n",
              "      <th>lw</th>\n",
              "      <th>lf</th>\n",
              "      <th>cf</th>\n",
              "      <th>rf</th>\n",
              "      <th>rw</th>\n",
              "      <th>lam</th>\n",
              "      <th>cam</th>\n",
              "      <th>ram</th>\n",
              "      <th>lm</th>\n",
              "      <th>lcm</th>\n",
              "      <th>cm</th>\n",
              "      <th>rcm</th>\n",
              "      <th>rm</th>\n",
              "      <th>lwb</th>\n",
              "      <th>ldm</th>\n",
              "      <th>cdm</th>\n",
              "      <th>rdm</th>\n",
              "      <th>rwb</th>\n",
              "      <th>lb</th>\n",
              "      <th>lcb</th>\n",
              "      <th>cb</th>\n",
              "      <th>rcb</th>\n",
              "      <th>rb</th>\n",
              "    </tr>\n",
              "  </thead>\n",
              "  <tbody>\n",
              "    <tr>\n",
              "      <th>0</th>\n",
              "      <td>158023</td>\n",
              "      <td>https://sofifa.com/player/158023/lionel-messi/...</td>\n",
              "      <td>L. Messi</td>\n",
              "      <td>Lionel Andrés Messi Cuccittini</td>\n",
              "      <td>27</td>\n",
              "      <td>1987-06-24</td>\n",
              "      <td>169</td>\n",
              "      <td>67</td>\n",
              "      <td>Argentina</td>\n",
              "      <td>FC Barcelona</td>\n",
              "      <td>Spain Primera Division</td>\n",
              "      <td>1.0</td>\n",
              "      <td>93</td>\n",
              "      <td>95</td>\n",
              "      <td>100500000</td>\n",
              "      <td>550000</td>\n",
              "      <td>CF</td>\n",
              "      <td>Left</td>\n",
              "      <td>5</td>\n",
              "      <td>3</td>\n",
              "      <td>4</td>\n",
              "      <td>Medium/Low</td>\n",
              "      <td>Normal</td>\n",
              "      <td>Yes</td>\n",
              "      <td>NaN</td>\n",
              "      <td>#Speedster, #Dribbler, #FK Specialist, #Acroba...</td>\n",
              "      <td>CF</td>\n",
              "      <td>10.0</td>\n",
              "      <td>NaN</td>\n",
              "      <td>2004-07-01</td>\n",
              "      <td>2018.0</td>\n",
              "      <td>CF</td>\n",
              "      <td>10.0</td>\n",
              "      <td>93.0</td>\n",
              "      <td>89.0</td>\n",
              "      <td>86.0</td>\n",
              "      <td>96.0</td>\n",
              "      <td>27.0</td>\n",
              "      <td>63.0</td>\n",
              "      <td>NaN</td>\n",
              "      <td>...</td>\n",
              "      <td>48</td>\n",
              "      <td>22</td>\n",
              "      <td>92</td>\n",
              "      <td>90</td>\n",
              "      <td>76</td>\n",
              "      <td>NaN</td>\n",
              "      <td>25</td>\n",
              "      <td>21</td>\n",
              "      <td>20</td>\n",
              "      <td>6</td>\n",
              "      <td>11</td>\n",
              "      <td>15</td>\n",
              "      <td>14</td>\n",
              "      <td>8</td>\n",
              "      <td>89+3</td>\n",
              "      <td>89+3</td>\n",
              "      <td>89+3</td>\n",
              "      <td>92+3</td>\n",
              "      <td>90+3</td>\n",
              "      <td>90+3</td>\n",
              "      <td>90+3</td>\n",
              "      <td>92+3</td>\n",
              "      <td>92+3</td>\n",
              "      <td>92+3</td>\n",
              "      <td>92+3</td>\n",
              "      <td>90+3</td>\n",
              "      <td>79+3</td>\n",
              "      <td>79+3</td>\n",
              "      <td>79+3</td>\n",
              "      <td>90+3</td>\n",
              "      <td>62+3</td>\n",
              "      <td>62+3</td>\n",
              "      <td>62+3</td>\n",
              "      <td>62+3</td>\n",
              "      <td>62+3</td>\n",
              "      <td>54+3</td>\n",
              "      <td>45+3</td>\n",
              "      <td>45+3</td>\n",
              "      <td>45+3</td>\n",
              "      <td>54+3</td>\n",
              "    </tr>\n",
              "    <tr>\n",
              "      <th>1</th>\n",
              "      <td>20801</td>\n",
              "      <td>https://sofifa.com/player/20801/c-ronaldo-dos-...</td>\n",
              "      <td>Cristiano Ronaldo</td>\n",
              "      <td>Cristiano Ronaldo dos Santos Aveiro</td>\n",
              "      <td>29</td>\n",
              "      <td>1985-02-05</td>\n",
              "      <td>185</td>\n",
              "      <td>80</td>\n",
              "      <td>Portugal</td>\n",
              "      <td>Real Madrid</td>\n",
              "      <td>Spain Primera Division</td>\n",
              "      <td>1.0</td>\n",
              "      <td>92</td>\n",
              "      <td>92</td>\n",
              "      <td>79000000</td>\n",
              "      <td>375000</td>\n",
              "      <td>LW, LM</td>\n",
              "      <td>Right</td>\n",
              "      <td>5</td>\n",
              "      <td>4</td>\n",
              "      <td>5</td>\n",
              "      <td>High/Low</td>\n",
              "      <td>Normal</td>\n",
              "      <td>Yes</td>\n",
              "      <td>NaN</td>\n",
              "      <td>#Speedster, #Dribbler, #Distance Shooter, #Acr...</td>\n",
              "      <td>LW</td>\n",
              "      <td>7.0</td>\n",
              "      <td>NaN</td>\n",
              "      <td>2009-07-01</td>\n",
              "      <td>2018.0</td>\n",
              "      <td>LW</td>\n",
              "      <td>7.0</td>\n",
              "      <td>93.0</td>\n",
              "      <td>93.0</td>\n",
              "      <td>81.0</td>\n",
              "      <td>91.0</td>\n",
              "      <td>32.0</td>\n",
              "      <td>79.0</td>\n",
              "      <td>NaN</td>\n",
              "      <td>...</td>\n",
              "      <td>63</td>\n",
              "      <td>24</td>\n",
              "      <td>91</td>\n",
              "      <td>81</td>\n",
              "      <td>85</td>\n",
              "      <td>NaN</td>\n",
              "      <td>22</td>\n",
              "      <td>31</td>\n",
              "      <td>23</td>\n",
              "      <td>7</td>\n",
              "      <td>11</td>\n",
              "      <td>15</td>\n",
              "      <td>14</td>\n",
              "      <td>11</td>\n",
              "      <td>91+1</td>\n",
              "      <td>91+1</td>\n",
              "      <td>91+1</td>\n",
              "      <td>89+3</td>\n",
              "      <td>91+1</td>\n",
              "      <td>91+1</td>\n",
              "      <td>91+1</td>\n",
              "      <td>89+3</td>\n",
              "      <td>89+3</td>\n",
              "      <td>89+3</td>\n",
              "      <td>89+3</td>\n",
              "      <td>87+3</td>\n",
              "      <td>77+3</td>\n",
              "      <td>77+3</td>\n",
              "      <td>77+3</td>\n",
              "      <td>87+3</td>\n",
              "      <td>63+3</td>\n",
              "      <td>63+3</td>\n",
              "      <td>63+3</td>\n",
              "      <td>63+3</td>\n",
              "      <td>63+3</td>\n",
              "      <td>57+3</td>\n",
              "      <td>52+3</td>\n",
              "      <td>52+3</td>\n",
              "      <td>52+3</td>\n",
              "      <td>57+3</td>\n",
              "    </tr>\n",
              "    <tr>\n",
              "      <th>2</th>\n",
              "      <td>9014</td>\n",
              "      <td>https://sofifa.com/player/9014/arjen-robben/15...</td>\n",
              "      <td>A. Robben</td>\n",
              "      <td>Arjen Robben</td>\n",
              "      <td>30</td>\n",
              "      <td>1984-01-23</td>\n",
              "      <td>180</td>\n",
              "      <td>80</td>\n",
              "      <td>Netherlands</td>\n",
              "      <td>FC Bayern München</td>\n",
              "      <td>German 1. Bundesliga</td>\n",
              "      <td>1.0</td>\n",
              "      <td>90</td>\n",
              "      <td>90</td>\n",
              "      <td>54500000</td>\n",
              "      <td>275000</td>\n",
              "      <td>RM, LM, RW</td>\n",
              "      <td>Left</td>\n",
              "      <td>5</td>\n",
              "      <td>2</td>\n",
              "      <td>4</td>\n",
              "      <td>High/Low</td>\n",
              "      <td>Normal</td>\n",
              "      <td>Yes</td>\n",
              "      <td>NaN</td>\n",
              "      <td>#Speedster, #Dribbler, #Distance Shooter, #Acr...</td>\n",
              "      <td>SUB</td>\n",
              "      <td>10.0</td>\n",
              "      <td>NaN</td>\n",
              "      <td>2009-08-28</td>\n",
              "      <td>2017.0</td>\n",
              "      <td>RS</td>\n",
              "      <td>11.0</td>\n",
              "      <td>93.0</td>\n",
              "      <td>86.0</td>\n",
              "      <td>83.0</td>\n",
              "      <td>92.0</td>\n",
              "      <td>32.0</td>\n",
              "      <td>64.0</td>\n",
              "      <td>NaN</td>\n",
              "      <td>...</td>\n",
              "      <td>47</td>\n",
              "      <td>39</td>\n",
              "      <td>89</td>\n",
              "      <td>84</td>\n",
              "      <td>80</td>\n",
              "      <td>NaN</td>\n",
              "      <td>29</td>\n",
              "      <td>26</td>\n",
              "      <td>26</td>\n",
              "      <td>10</td>\n",
              "      <td>8</td>\n",
              "      <td>11</td>\n",
              "      <td>5</td>\n",
              "      <td>15</td>\n",
              "      <td>84+3</td>\n",
              "      <td>84+3</td>\n",
              "      <td>84+3</td>\n",
              "      <td>88+2</td>\n",
              "      <td>87+3</td>\n",
              "      <td>87+3</td>\n",
              "      <td>87+3</td>\n",
              "      <td>88+2</td>\n",
              "      <td>88+2</td>\n",
              "      <td>88+2</td>\n",
              "      <td>88+2</td>\n",
              "      <td>87+3</td>\n",
              "      <td>78+3</td>\n",
              "      <td>78+3</td>\n",
              "      <td>78+3</td>\n",
              "      <td>87+3</td>\n",
              "      <td>64+3</td>\n",
              "      <td>64+3</td>\n",
              "      <td>64+3</td>\n",
              "      <td>64+3</td>\n",
              "      <td>64+3</td>\n",
              "      <td>55+3</td>\n",
              "      <td>46+3</td>\n",
              "      <td>46+3</td>\n",
              "      <td>46+3</td>\n",
              "      <td>55+3</td>\n",
              "    </tr>\n",
              "    <tr>\n",
              "      <th>3</th>\n",
              "      <td>41236</td>\n",
              "      <td>https://sofifa.com/player/41236/zlatan-ibrahim...</td>\n",
              "      <td>Z. Ibrahimović</td>\n",
              "      <td>Zlatan Ibrahimović</td>\n",
              "      <td>32</td>\n",
              "      <td>1981-10-03</td>\n",
              "      <td>195</td>\n",
              "      <td>95</td>\n",
              "      <td>Sweden</td>\n",
              "      <td>Paris Saint-Germain</td>\n",
              "      <td>French Ligue 1</td>\n",
              "      <td>1.0</td>\n",
              "      <td>90</td>\n",
              "      <td>90</td>\n",
              "      <td>52500000</td>\n",
              "      <td>275000</td>\n",
              "      <td>ST</td>\n",
              "      <td>Right</td>\n",
              "      <td>5</td>\n",
              "      <td>4</td>\n",
              "      <td>4</td>\n",
              "      <td>Medium/Low</td>\n",
              "      <td>Normal</td>\n",
              "      <td>Yes</td>\n",
              "      <td>NaN</td>\n",
              "      <td>#Poacher, #Aerial Threat, #Distance Shooter, #...</td>\n",
              "      <td>ST</td>\n",
              "      <td>10.0</td>\n",
              "      <td>NaN</td>\n",
              "      <td>2012-07-01</td>\n",
              "      <td>2016.0</td>\n",
              "      <td>ST</td>\n",
              "      <td>10.0</td>\n",
              "      <td>76.0</td>\n",
              "      <td>91.0</td>\n",
              "      <td>81.0</td>\n",
              "      <td>86.0</td>\n",
              "      <td>34.0</td>\n",
              "      <td>86.0</td>\n",
              "      <td>NaN</td>\n",
              "      <td>...</td>\n",
              "      <td>84</td>\n",
              "      <td>20</td>\n",
              "      <td>86</td>\n",
              "      <td>83</td>\n",
              "      <td>91</td>\n",
              "      <td>NaN</td>\n",
              "      <td>25</td>\n",
              "      <td>41</td>\n",
              "      <td>27</td>\n",
              "      <td>13</td>\n",
              "      <td>15</td>\n",
              "      <td>10</td>\n",
              "      <td>9</td>\n",
              "      <td>12</td>\n",
              "      <td>87+3</td>\n",
              "      <td>87+3</td>\n",
              "      <td>87+3</td>\n",
              "      <td>84+3</td>\n",
              "      <td>86+3</td>\n",
              "      <td>86+3</td>\n",
              "      <td>86+3</td>\n",
              "      <td>84+3</td>\n",
              "      <td>86+3</td>\n",
              "      <td>86+3</td>\n",
              "      <td>86+3</td>\n",
              "      <td>83+3</td>\n",
              "      <td>76+3</td>\n",
              "      <td>76+3</td>\n",
              "      <td>76+3</td>\n",
              "      <td>83+3</td>\n",
              "      <td>61+3</td>\n",
              "      <td>65+3</td>\n",
              "      <td>65+3</td>\n",
              "      <td>65+3</td>\n",
              "      <td>61+3</td>\n",
              "      <td>56+3</td>\n",
              "      <td>55+3</td>\n",
              "      <td>55+3</td>\n",
              "      <td>55+3</td>\n",
              "      <td>56+3</td>\n",
              "    </tr>\n",
              "    <tr>\n",
              "      <th>4</th>\n",
              "      <td>167495</td>\n",
              "      <td>https://sofifa.com/player/167495/manuel-neuer/...</td>\n",
              "      <td>M. Neuer</td>\n",
              "      <td>Manuel Neuer</td>\n",
              "      <td>28</td>\n",
              "      <td>1986-03-27</td>\n",
              "      <td>193</td>\n",
              "      <td>92</td>\n",
              "      <td>Germany</td>\n",
              "      <td>FC Bayern München</td>\n",
              "      <td>German 1. Bundesliga</td>\n",
              "      <td>1.0</td>\n",
              "      <td>90</td>\n",
              "      <td>90</td>\n",
              "      <td>63500000</td>\n",
              "      <td>300000</td>\n",
              "      <td>GK</td>\n",
              "      <td>Right</td>\n",
              "      <td>5</td>\n",
              "      <td>4</td>\n",
              "      <td>1</td>\n",
              "      <td>Medium/Medium</td>\n",
              "      <td>Normal</td>\n",
              "      <td>Yes</td>\n",
              "      <td>NaN</td>\n",
              "      <td>NaN</td>\n",
              "      <td>GK</td>\n",
              "      <td>1.0</td>\n",
              "      <td>NaN</td>\n",
              "      <td>2011-07-01</td>\n",
              "      <td>2019.0</td>\n",
              "      <td>GK</td>\n",
              "      <td>1.0</td>\n",
              "      <td>NaN</td>\n",
              "      <td>NaN</td>\n",
              "      <td>NaN</td>\n",
              "      <td>NaN</td>\n",
              "      <td>NaN</td>\n",
              "      <td>NaN</td>\n",
              "      <td>87.0</td>\n",
              "      <td>...</td>\n",
              "      <td>29</td>\n",
              "      <td>30</td>\n",
              "      <td>25</td>\n",
              "      <td>20</td>\n",
              "      <td>37</td>\n",
              "      <td>NaN</td>\n",
              "      <td>25</td>\n",
              "      <td>25</td>\n",
              "      <td>25</td>\n",
              "      <td>87</td>\n",
              "      <td>85</td>\n",
              "      <td>92</td>\n",
              "      <td>90</td>\n",
              "      <td>86</td>\n",
              "      <td>38+3</td>\n",
              "      <td>38+3</td>\n",
              "      <td>38+3</td>\n",
              "      <td>36+3</td>\n",
              "      <td>37+3</td>\n",
              "      <td>37+3</td>\n",
              "      <td>37+3</td>\n",
              "      <td>36+3</td>\n",
              "      <td>36+3</td>\n",
              "      <td>36+3</td>\n",
              "      <td>36+3</td>\n",
              "      <td>38+3</td>\n",
              "      <td>36+3</td>\n",
              "      <td>36+3</td>\n",
              "      <td>36+3</td>\n",
              "      <td>38+3</td>\n",
              "      <td>36+3</td>\n",
              "      <td>40+3</td>\n",
              "      <td>40+3</td>\n",
              "      <td>40+3</td>\n",
              "      <td>36+3</td>\n",
              "      <td>36+3</td>\n",
              "      <td>38+3</td>\n",
              "      <td>38+3</td>\n",
              "      <td>38+3</td>\n",
              "      <td>36+3</td>\n",
              "    </tr>\n",
              "    <tr>\n",
              "      <th>...</th>\n",
              "      <td>...</td>\n",
              "      <td>...</td>\n",
              "      <td>...</td>\n",
              "      <td>...</td>\n",
              "      <td>...</td>\n",
              "      <td>...</td>\n",
              "      <td>...</td>\n",
              "      <td>...</td>\n",
              "      <td>...</td>\n",
              "      <td>...</td>\n",
              "      <td>...</td>\n",
              "      <td>...</td>\n",
              "      <td>...</td>\n",
              "      <td>...</td>\n",
              "      <td>...</td>\n",
              "      <td>...</td>\n",
              "      <td>...</td>\n",
              "      <td>...</td>\n",
              "      <td>...</td>\n",
              "      <td>...</td>\n",
              "      <td>...</td>\n",
              "      <td>...</td>\n",
              "      <td>...</td>\n",
              "      <td>...</td>\n",
              "      <td>...</td>\n",
              "      <td>...</td>\n",
              "      <td>...</td>\n",
              "      <td>...</td>\n",
              "      <td>...</td>\n",
              "      <td>...</td>\n",
              "      <td>...</td>\n",
              "      <td>...</td>\n",
              "      <td>...</td>\n",
              "      <td>...</td>\n",
              "      <td>...</td>\n",
              "      <td>...</td>\n",
              "      <td>...</td>\n",
              "      <td>...</td>\n",
              "      <td>...</td>\n",
              "      <td>...</td>\n",
              "      <td>...</td>\n",
              "      <td>...</td>\n",
              "      <td>...</td>\n",
              "      <td>...</td>\n",
              "      <td>...</td>\n",
              "      <td>...</td>\n",
              "      <td>...</td>\n",
              "      <td>...</td>\n",
              "      <td>...</td>\n",
              "      <td>...</td>\n",
              "      <td>...</td>\n",
              "      <td>...</td>\n",
              "      <td>...</td>\n",
              "      <td>...</td>\n",
              "      <td>...</td>\n",
              "      <td>...</td>\n",
              "      <td>...</td>\n",
              "      <td>...</td>\n",
              "      <td>...</td>\n",
              "      <td>...</td>\n",
              "      <td>...</td>\n",
              "      <td>...</td>\n",
              "      <td>...</td>\n",
              "      <td>...</td>\n",
              "      <td>...</td>\n",
              "      <td>...</td>\n",
              "      <td>...</td>\n",
              "      <td>...</td>\n",
              "      <td>...</td>\n",
              "      <td>...</td>\n",
              "      <td>...</td>\n",
              "      <td>...</td>\n",
              "      <td>...</td>\n",
              "      <td>...</td>\n",
              "      <td>...</td>\n",
              "      <td>...</td>\n",
              "      <td>...</td>\n",
              "      <td>...</td>\n",
              "      <td>...</td>\n",
              "      <td>...</td>\n",
              "      <td>...</td>\n",
              "    </tr>\n",
              "    <tr>\n",
              "      <th>16150</th>\n",
              "      <td>220806</td>\n",
              "      <td>https://sofifa.com/player/220806/ellis-redman/...</td>\n",
              "      <td>E. Redman</td>\n",
              "      <td>Ellis Redman</td>\n",
              "      <td>17</td>\n",
              "      <td>1996-09-26</td>\n",
              "      <td>187</td>\n",
              "      <td>81</td>\n",
              "      <td>Wales</td>\n",
              "      <td>Newport County</td>\n",
              "      <td>English League Two</td>\n",
              "      <td>4.0</td>\n",
              "      <td>41</td>\n",
              "      <td>61</td>\n",
              "      <td>20000</td>\n",
              "      <td>2000</td>\n",
              "      <td>CB</td>\n",
              "      <td>Right</td>\n",
              "      <td>1</td>\n",
              "      <td>2</td>\n",
              "      <td>2</td>\n",
              "      <td>Medium/Medium</td>\n",
              "      <td>Normal</td>\n",
              "      <td>No</td>\n",
              "      <td>NaN</td>\n",
              "      <td>NaN</td>\n",
              "      <td>RES</td>\n",
              "      <td>35.0</td>\n",
              "      <td>NaN</td>\n",
              "      <td>2013-10-22</td>\n",
              "      <td>2015.0</td>\n",
              "      <td>NaN</td>\n",
              "      <td>NaN</td>\n",
              "      <td>66.0</td>\n",
              "      <td>25.0</td>\n",
              "      <td>29.0</td>\n",
              "      <td>30.0</td>\n",
              "      <td>39.0</td>\n",
              "      <td>53.0</td>\n",
              "      <td>NaN</td>\n",
              "      <td>...</td>\n",
              "      <td>50</td>\n",
              "      <td>41</td>\n",
              "      <td>25</td>\n",
              "      <td>22</td>\n",
              "      <td>31</td>\n",
              "      <td>NaN</td>\n",
              "      <td>38</td>\n",
              "      <td>40</td>\n",
              "      <td>35</td>\n",
              "      <td>12</td>\n",
              "      <td>6</td>\n",
              "      <td>15</td>\n",
              "      <td>8</td>\n",
              "      <td>6</td>\n",
              "      <td>32+0</td>\n",
              "      <td>32+0</td>\n",
              "      <td>32+0</td>\n",
              "      <td>33+0</td>\n",
              "      <td>30+0</td>\n",
              "      <td>30+0</td>\n",
              "      <td>30+0</td>\n",
              "      <td>33+0</td>\n",
              "      <td>30+0</td>\n",
              "      <td>30+0</td>\n",
              "      <td>30+0</td>\n",
              "      <td>34+0</td>\n",
              "      <td>32+0</td>\n",
              "      <td>32+0</td>\n",
              "      <td>32+0</td>\n",
              "      <td>34+0</td>\n",
              "      <td>37+0</td>\n",
              "      <td>38+0</td>\n",
              "      <td>38+0</td>\n",
              "      <td>38+0</td>\n",
              "      <td>37+0</td>\n",
              "      <td>40+0</td>\n",
              "      <td>41+0</td>\n",
              "      <td>41+0</td>\n",
              "      <td>41+0</td>\n",
              "      <td>40+0</td>\n",
              "    </tr>\n",
              "    <tr>\n",
              "      <th>16151</th>\n",
              "      <td>225509</td>\n",
              "      <td>https://sofifa.com/player/225509/aaron-collins...</td>\n",
              "      <td>A. Collins</td>\n",
              "      <td>Aaron Collins</td>\n",
              "      <td>17</td>\n",
              "      <td>1997-06-01</td>\n",
              "      <td>178</td>\n",
              "      <td>57</td>\n",
              "      <td>Wales</td>\n",
              "      <td>Newport County</td>\n",
              "      <td>English League Two</td>\n",
              "      <td>4.0</td>\n",
              "      <td>41</td>\n",
              "      <td>50</td>\n",
              "      <td>30000</td>\n",
              "      <td>2000</td>\n",
              "      <td>ST</td>\n",
              "      <td>Right</td>\n",
              "      <td>1</td>\n",
              "      <td>3</td>\n",
              "      <td>3</td>\n",
              "      <td>Medium/Medium</td>\n",
              "      <td>Lean</td>\n",
              "      <td>No</td>\n",
              "      <td>NaN</td>\n",
              "      <td>NaN</td>\n",
              "      <td>RES</td>\n",
              "      <td>39.0</td>\n",
              "      <td>NaN</td>\n",
              "      <td>2014-08-14</td>\n",
              "      <td>2015.0</td>\n",
              "      <td>NaN</td>\n",
              "      <td>NaN</td>\n",
              "      <td>64.0</td>\n",
              "      <td>41.0</td>\n",
              "      <td>27.0</td>\n",
              "      <td>35.0</td>\n",
              "      <td>27.0</td>\n",
              "      <td>41.0</td>\n",
              "      <td>NaN</td>\n",
              "      <td>...</td>\n",
              "      <td>30</td>\n",
              "      <td>25</td>\n",
              "      <td>41</td>\n",
              "      <td>39</td>\n",
              "      <td>47</td>\n",
              "      <td>NaN</td>\n",
              "      <td>25</td>\n",
              "      <td>25</td>\n",
              "      <td>25</td>\n",
              "      <td>13</td>\n",
              "      <td>11</td>\n",
              "      <td>12</td>\n",
              "      <td>15</td>\n",
              "      <td>11</td>\n",
              "      <td>41+0</td>\n",
              "      <td>41+0</td>\n",
              "      <td>41+0</td>\n",
              "      <td>37+0</td>\n",
              "      <td>39+0</td>\n",
              "      <td>39+0</td>\n",
              "      <td>39+0</td>\n",
              "      <td>37+0</td>\n",
              "      <td>37+0</td>\n",
              "      <td>37+0</td>\n",
              "      <td>37+0</td>\n",
              "      <td>35+0</td>\n",
              "      <td>32+0</td>\n",
              "      <td>32+0</td>\n",
              "      <td>32+0</td>\n",
              "      <td>35+0</td>\n",
              "      <td>31+0</td>\n",
              "      <td>30+0</td>\n",
              "      <td>30+0</td>\n",
              "      <td>30+0</td>\n",
              "      <td>31+0</td>\n",
              "      <td>32+0</td>\n",
              "      <td>31+0</td>\n",
              "      <td>31+0</td>\n",
              "      <td>31+0</td>\n",
              "      <td>32+0</td>\n",
              "    </tr>\n",
              "    <tr>\n",
              "      <th>16152</th>\n",
              "      <td>217591</td>\n",
              "      <td>https://sofifa.com/player/217591/piotr-zemlo/1...</td>\n",
              "      <td>P. Żemło</td>\n",
              "      <td>Piotr Żemło</td>\n",
              "      <td>18</td>\n",
              "      <td>1995-07-10</td>\n",
              "      <td>190</td>\n",
              "      <td>76</td>\n",
              "      <td>Poland</td>\n",
              "      <td>Wisła Kraków</td>\n",
              "      <td>Polish T-Mobile Ekstraklasa</td>\n",
              "      <td>1.0</td>\n",
              "      <td>40</td>\n",
              "      <td>50</td>\n",
              "      <td>15000</td>\n",
              "      <td>2000</td>\n",
              "      <td>LM, LB</td>\n",
              "      <td>Left</td>\n",
              "      <td>1</td>\n",
              "      <td>3</td>\n",
              "      <td>2</td>\n",
              "      <td>Medium/Medium</td>\n",
              "      <td>Normal</td>\n",
              "      <td>No</td>\n",
              "      <td>NaN</td>\n",
              "      <td>NaN</td>\n",
              "      <td>RES</td>\n",
              "      <td>43.0</td>\n",
              "      <td>NaN</td>\n",
              "      <td>2012-07-01</td>\n",
              "      <td>2015.0</td>\n",
              "      <td>NaN</td>\n",
              "      <td>NaN</td>\n",
              "      <td>58.0</td>\n",
              "      <td>27.0</td>\n",
              "      <td>35.0</td>\n",
              "      <td>31.0</td>\n",
              "      <td>52.0</td>\n",
              "      <td>68.0</td>\n",
              "      <td>NaN</td>\n",
              "      <td>...</td>\n",
              "      <td>44</td>\n",
              "      <td>47</td>\n",
              "      <td>38</td>\n",
              "      <td>21</td>\n",
              "      <td>31</td>\n",
              "      <td>NaN</td>\n",
              "      <td>54</td>\n",
              "      <td>52</td>\n",
              "      <td>51</td>\n",
              "      <td>8</td>\n",
              "      <td>14</td>\n",
              "      <td>7</td>\n",
              "      <td>10</td>\n",
              "      <td>9</td>\n",
              "      <td>38+0</td>\n",
              "      <td>38+0</td>\n",
              "      <td>38+0</td>\n",
              "      <td>38+0</td>\n",
              "      <td>35+0</td>\n",
              "      <td>35+0</td>\n",
              "      <td>35+0</td>\n",
              "      <td>38+0</td>\n",
              "      <td>33+0</td>\n",
              "      <td>33+0</td>\n",
              "      <td>33+0</td>\n",
              "      <td>40+0</td>\n",
              "      <td>38+0</td>\n",
              "      <td>38+0</td>\n",
              "      <td>38+0</td>\n",
              "      <td>40+0</td>\n",
              "      <td>48+0</td>\n",
              "      <td>46+0</td>\n",
              "      <td>46+0</td>\n",
              "      <td>46+0</td>\n",
              "      <td>48+0</td>\n",
              "      <td>51+</td>\n",
              "      <td>53+</td>\n",
              "      <td>53+</td>\n",
              "      <td>53+</td>\n",
              "      <td>51+</td>\n",
              "    </tr>\n",
              "    <tr>\n",
              "      <th>16153</th>\n",
              "      <td>222947</td>\n",
              "      <td>https://sofifa.com/player/222947/tom-davies/15...</td>\n",
              "      <td>T. Davies</td>\n",
              "      <td>Tom Davies</td>\n",
              "      <td>22</td>\n",
              "      <td>1992-04-18</td>\n",
              "      <td>180</td>\n",
              "      <td>70</td>\n",
              "      <td>England</td>\n",
              "      <td>Fleetwood Town</td>\n",
              "      <td>English League One</td>\n",
              "      <td>3.0</td>\n",
              "      <td>40</td>\n",
              "      <td>49</td>\n",
              "      <td>15000</td>\n",
              "      <td>2000</td>\n",
              "      <td>CB</td>\n",
              "      <td>Right</td>\n",
              "      <td>1</td>\n",
              "      <td>2</td>\n",
              "      <td>2</td>\n",
              "      <td>Medium/Medium</td>\n",
              "      <td>Normal</td>\n",
              "      <td>No</td>\n",
              "      <td>NaN</td>\n",
              "      <td>NaN</td>\n",
              "      <td>RES</td>\n",
              "      <td>26.0</td>\n",
              "      <td>NaN</td>\n",
              "      <td>2014-03-11</td>\n",
              "      <td>2021.0</td>\n",
              "      <td>NaN</td>\n",
              "      <td>NaN</td>\n",
              "      <td>72.0</td>\n",
              "      <td>27.0</td>\n",
              "      <td>27.0</td>\n",
              "      <td>30.0</td>\n",
              "      <td>35.0</td>\n",
              "      <td>61.0</td>\n",
              "      <td>NaN</td>\n",
              "      <td>...</td>\n",
              "      <td>44</td>\n",
              "      <td>34</td>\n",
              "      <td>27</td>\n",
              "      <td>25</td>\n",
              "      <td>21</td>\n",
              "      <td>NaN</td>\n",
              "      <td>36</td>\n",
              "      <td>34</td>\n",
              "      <td>35</td>\n",
              "      <td>15</td>\n",
              "      <td>13</td>\n",
              "      <td>6</td>\n",
              "      <td>11</td>\n",
              "      <td>9</td>\n",
              "      <td>35+0</td>\n",
              "      <td>35+0</td>\n",
              "      <td>35+0</td>\n",
              "      <td>33+0</td>\n",
              "      <td>33+0</td>\n",
              "      <td>33+0</td>\n",
              "      <td>33+0</td>\n",
              "      <td>33+0</td>\n",
              "      <td>31+0</td>\n",
              "      <td>31+0</td>\n",
              "      <td>31+0</td>\n",
              "      <td>34+0</td>\n",
              "      <td>31+0</td>\n",
              "      <td>31+0</td>\n",
              "      <td>31+0</td>\n",
              "      <td>34+0</td>\n",
              "      <td>37+0</td>\n",
              "      <td>36+0</td>\n",
              "      <td>36+0</td>\n",
              "      <td>36+0</td>\n",
              "      <td>37+0</td>\n",
              "      <td>39+0</td>\n",
              "      <td>40+0</td>\n",
              "      <td>40+0</td>\n",
              "      <td>40+0</td>\n",
              "      <td>39+0</td>\n",
              "    </tr>\n",
              "    <tr>\n",
              "      <th>16154</th>\n",
              "      <td>201197</td>\n",
              "      <td>https://sofifa.com/player/201197/paul-tisdale/...</td>\n",
              "      <td>P. Tisdale</td>\n",
              "      <td>Paul Tisdale</td>\n",
              "      <td>41</td>\n",
              "      <td>1973-01-14</td>\n",
              "      <td>175</td>\n",
              "      <td>72</td>\n",
              "      <td>Malta</td>\n",
              "      <td>Exeter City</td>\n",
              "      <td>English League Two</td>\n",
              "      <td>4.0</td>\n",
              "      <td>40</td>\n",
              "      <td>40</td>\n",
              "      <td>0</td>\n",
              "      <td>2000</td>\n",
              "      <td>CM, CAM</td>\n",
              "      <td>Right</td>\n",
              "      <td>1</td>\n",
              "      <td>3</td>\n",
              "      <td>2</td>\n",
              "      <td>Medium/Medium</td>\n",
              "      <td>Lean</td>\n",
              "      <td>No</td>\n",
              "      <td>NaN</td>\n",
              "      <td>NaN</td>\n",
              "      <td>RES</td>\n",
              "      <td>17.0</td>\n",
              "      <td>NaN</td>\n",
              "      <td>2006-06-26</td>\n",
              "      <td>2015.0</td>\n",
              "      <td>NaN</td>\n",
              "      <td>NaN</td>\n",
              "      <td>38.0</td>\n",
              "      <td>36.0</td>\n",
              "      <td>42.0</td>\n",
              "      <td>45.0</td>\n",
              "      <td>31.0</td>\n",
              "      <td>33.0</td>\n",
              "      <td>NaN</td>\n",
              "      <td>...</td>\n",
              "      <td>32</td>\n",
              "      <td>35</td>\n",
              "      <td>43</td>\n",
              "      <td>41</td>\n",
              "      <td>55</td>\n",
              "      <td>NaN</td>\n",
              "      <td>27</td>\n",
              "      <td>34</td>\n",
              "      <td>29</td>\n",
              "      <td>5</td>\n",
              "      <td>6</td>\n",
              "      <td>14</td>\n",
              "      <td>8</td>\n",
              "      <td>13</td>\n",
              "      <td>38+0</td>\n",
              "      <td>38+0</td>\n",
              "      <td>38+0</td>\n",
              "      <td>41+</td>\n",
              "      <td>40+0</td>\n",
              "      <td>40+0</td>\n",
              "      <td>40+0</td>\n",
              "      <td>41+</td>\n",
              "      <td>41+</td>\n",
              "      <td>41+</td>\n",
              "      <td>41+</td>\n",
              "      <td>41+</td>\n",
              "      <td>40+0</td>\n",
              "      <td>40+0</td>\n",
              "      <td>40+0</td>\n",
              "      <td>41+</td>\n",
              "      <td>36+0</td>\n",
              "      <td>37+0</td>\n",
              "      <td>37+0</td>\n",
              "      <td>37+0</td>\n",
              "      <td>36+0</td>\n",
              "      <td>34+0</td>\n",
              "      <td>33+0</td>\n",
              "      <td>33+0</td>\n",
              "      <td>33+0</td>\n",
              "      <td>34+0</td>\n",
              "    </tr>\n",
              "  </tbody>\n",
              "</table>\n",
              "<p>16155 rows × 106 columns</p>\n",
              "</div>"
            ],
            "text/plain": [
              "       sofifa_id                                         player_url  ...   rcb    rb\n",
              "0         158023  https://sofifa.com/player/158023/lionel-messi/...  ...  45+3  54+3\n",
              "1          20801  https://sofifa.com/player/20801/c-ronaldo-dos-...  ...  52+3  57+3\n",
              "2           9014  https://sofifa.com/player/9014/arjen-robben/15...  ...  46+3  55+3\n",
              "3          41236  https://sofifa.com/player/41236/zlatan-ibrahim...  ...  55+3  56+3\n",
              "4         167495  https://sofifa.com/player/167495/manuel-neuer/...  ...  38+3  36+3\n",
              "...          ...                                                ...  ...   ...   ...\n",
              "16150     220806  https://sofifa.com/player/220806/ellis-redman/...  ...  41+0  40+0\n",
              "16151     225509  https://sofifa.com/player/225509/aaron-collins...  ...  31+0  32+0\n",
              "16152     217591  https://sofifa.com/player/217591/piotr-zemlo/1...  ...   53+   51+\n",
              "16153     222947  https://sofifa.com/player/222947/tom-davies/15...  ...  40+0  39+0\n",
              "16154     201197  https://sofifa.com/player/201197/paul-tisdale/...  ...  33+0  34+0\n",
              "\n",
              "[16155 rows x 106 columns]"
            ]
          },
          "metadata": {
            "tags": []
          },
          "execution_count": 10
        }
      ]
    },
    {
      "cell_type": "markdown",
      "metadata": {
        "ExecuteTime": {
          "end_time": "2020-11-06T13:07:44.347046Z",
          "start_time": "2020-11-06T13:05:28.622999Z"
        },
        "id": "n3rfRnyzPyKB"
      },
      "source": [
        "data = pd.read_excel(\"/Users/Giulia/Desktop/archive (1)/Career Mode player datasets - FIFA 15-21.xlsx\") \n",
        "df = pd.DataFrame(data)"
      ]
    },
    {
      "cell_type": "markdown",
      "metadata": {
        "id": "QOYOcuI4PyKC"
      },
      "source": [
        "### dataframe"
      ]
    },
    {
      "cell_type": "markdown",
      "metadata": {
        "id": "LPPR7_uHPyKD"
      },
      "source": [
        "# Preprocessing"
      ]
    },
    {
      "cell_type": "markdown",
      "metadata": {
        "id": "bNzKGoSwPyKD"
      },
      "source": [
        "### Merge Datasets"
      ]
    },
    {
      "cell_type": "code",
      "metadata": {
        "ExecuteTime": {
          "end_time": "2020-11-07T15:04:27.066163Z",
          "start_time": "2020-11-07T15:04:23.840Z"
        },
        "id": "qMF14FopPyKE"
      },
      "source": [
        "value2018=df18[['long_name','value_eur']]\n",
        "value2019=df19[['long_name','value_eur']]\n",
        "value2020=df20[['long_name','value_eur']]\n",
        "value2021=df21[['long_name','value_eur']]"
      ],
      "execution_count": 11,
      "outputs": []
    },
    {
      "cell_type": "code",
      "metadata": {
        "ExecuteTime": {
          "end_time": "2020-11-07T15:04:27.100432Z",
          "start_time": "2020-11-07T15:04:23.983Z"
        },
        "id": "1QT-3GOwPyKH"
      },
      "source": [
        "val2018=value2018.rename(columns={'value_eur': 'value_eur18'})\n",
        "val2019=value2019.rename(columns={'value_eur': 'value_eur19'})\n",
        "val2020=value2020.rename(columns={'value_eur': 'value_eur20'})\n",
        "val2021=value2021.rename(columns={'value_eur': 'value_eur21'})"
      ],
      "execution_count": 12,
      "outputs": []
    },
    {
      "cell_type": "code",
      "metadata": {
        "ExecuteTime": {
          "end_time": "2020-11-07T15:04:27.125252Z",
          "start_time": "2020-11-07T15:04:24.147Z"
        },
        "id": "yfIvN7LRPyKK"
      },
      "source": [
        "df15=df15.merge(val2018, left_on='long_name', right_on='long_name')\n",
        "df16=df16.merge(val2019, left_on='long_name', right_on='long_name')\n",
        "df17=df17.merge(val2020, left_on='long_name', right_on='long_name')\n",
        "df18=df18.merge(val2021, left_on='long_name', right_on='long_name')"
      ],
      "execution_count": 13,
      "outputs": []
    },
    {
      "cell_type": "code",
      "metadata": {
        "ExecuteTime": {
          "end_time": "2020-11-07T15:04:27.143748Z",
          "start_time": "2020-11-07T15:04:24.315Z"
        },
        "id": "o4SO_SiPPyKO"
      },
      "source": [
        "df15.rename(columns={\"value_eur18\": \"y\"},inplace=True)\n",
        "df16.rename(columns={\"value_eur19\": \"y\"},inplace=True)\n",
        "df17.rename(columns={\"value_eur20\": \"y\"},inplace=True)\n",
        "df18.rename(columns={\"value_eur21\": \"y\"},inplace=True)"
      ],
      "execution_count": 14,
      "outputs": []
    },
    {
      "cell_type": "code",
      "metadata": {
        "ExecuteTime": {
          "end_time": "2020-11-07T15:04:27.154407Z",
          "start_time": "2020-11-07T15:04:24.471Z"
        },
        "id": "HAp-myPUPyKQ"
      },
      "source": [
        "df15.insert(1,\"ANNO\", '2015', True) \n",
        "df16.insert(1,\"ANNO\", '2016', True) \n",
        "df17.insert(1,\"ANNO\", '2017', True) \n",
        "df18.insert(1,\"ANNO\", '2018', True) "
      ],
      "execution_count": 15,
      "outputs": []
    },
    {
      "cell_type": "code",
      "metadata": {
        "ExecuteTime": {
          "end_time": "2020-11-07T15:04:27.180266Z",
          "start_time": "2020-11-07T15:04:24.626Z"
        },
        "id": "5hsek60ePyKT"
      },
      "source": [
        "frames = [df15, df16, df17, df18]\n",
        "DF = pd.concat(frames)"
      ],
      "execution_count": 16,
      "outputs": []
    },
    {
      "cell_type": "markdown",
      "metadata": {
        "id": "0B3JoMVuPyKW"
      },
      "source": [
        "### Analisi Colonne"
      ]
    },
    {
      "cell_type": "code",
      "metadata": {
        "ExecuteTime": {
          "end_time": "2020-11-07T15:04:27.183771Z",
          "start_time": "2020-11-07T15:04:25.007Z"
        },
        "id": "ogIeFukKPyKW"
      },
      "source": [
        "gk=['gk_diving','gk_handling','gk_kicking','gk_reflexes','gk_speed','gk_positioning']"
      ],
      "execution_count": 17,
      "outputs": []
    },
    {
      "cell_type": "code",
      "metadata": {
        "ExecuteTime": {
          "end_time": "2020-11-07T15:04:27.186556Z",
          "start_time": "2020-11-07T15:04:25.184Z"
        },
        "id": "z5rF_CcjPyKZ"
      },
      "source": [
        "DF.drop(gk, axis=1, inplace=True)"
      ],
      "execution_count": 18,
      "outputs": []
    },
    {
      "cell_type": "code",
      "metadata": {
        "ExecuteTime": {
          "end_time": "2020-11-07T15:04:27.189341Z",
          "start_time": "2020-11-07T15:04:25.336Z"
        },
        "id": "m87L2yRjPyKd"
      },
      "source": [
        "DF.drop(['player_tags', 'loaned_from','nation_position','nation_jersey_number','player_traits','mentality_composure','release_clause_eur'], axis=1, inplace=True)\n"
      ],
      "execution_count": 19,
      "outputs": []
    },
    {
      "cell_type": "markdown",
      "metadata": {
        "id": "ZHoy-I6PPyKg"
      },
      "source": [
        "### ls, st, rs, lw, if ..."
      ]
    },
    {
      "cell_type": "markdown",
      "metadata": {
        "ExecuteTime": {
          "end_time": "2020-11-06T09:49:20.363364Z",
          "start_time": "2020-11-06T09:49:20.356323Z"
        },
        "id": "D_D5YcIdPyKg"
      },
      "source": [
        "cols=[\"ls\",\"st\",\"rs\",\"lw\",\"lf\",\"cf\",\"rf\",\"rw\",\"lam\",\"cam\",\"ram\",\"lm\",\"lcm\",\"cm\",\"rcm\",\"rm\",\"lwb\",\"ldm\",\"cdm\",\"rdm\",\"rwb\",\"lb\",\"lcb\",\"cb\",\"rcb\",\"rb\"]\n",
        "all_columns = list(cols)\n"
      ]
    },
    {
      "cell_type": "markdown",
      "metadata": {
        "ExecuteTime": {
          "end_time": "2020-11-06T09:49:35.355971Z",
          "start_time": "2020-11-06T09:49:35.178850Z"
        },
        "id": "0vdoVbBnPyKh"
      },
      "source": [
        "df15[all_columns] = df15[all_columns].astype(str)\n",
        "df16[cols] = df16[cols].astype(str)\n",
        "df17[cols] = df17[cols].astype(str)\n",
        "df18[cols] = df18[cols].astype(str)"
      ]
    },
    {
      "cell_type": "markdown",
      "metadata": {
        "ExecuteTime": {
          "end_time": "2020-11-06T09:50:37.259229Z",
          "start_time": "2020-11-06T09:50:36.882155Z"
        },
        "id": "78wdZ0duPyKh"
      },
      "source": [
        "df15 = [df15[all_columns].astype(str) for all_columns in df15.columns]"
      ]
    },
    {
      "cell_type": "markdown",
      "metadata": {
        "ExecuteTime": {
          "end_time": "2020-11-06T09:52:18.126046Z",
          "start_time": "2020-11-06T09:52:18.035673Z"
        },
        "id": "6bZc4nKmPyKi"
      },
      "source": [
        "df16[all_columns] = df[all_columns].astype('str')"
      ]
    },
    {
      "cell_type": "markdown",
      "metadata": {
        "ExecuteTime": {
          "end_time": "2020-11-06T09:52:28.268391Z",
          "start_time": "2020-11-06T09:52:28.260981Z"
        },
        "id": "DMJdnXezPyKi"
      },
      "source": [
        "df16.dtypes"
      ]
    },
    {
      "cell_type": "markdown",
      "metadata": {
        "ExecuteTime": {
          "end_time": "2020-11-06T09:31:27.491890Z",
          "start_time": "2020-11-06T09:31:27.469360Z"
        },
        "id": "40PavgSNPyKj"
      },
      "source": [
        "df15[cols] = df15[cols].str.replace('+','')\n",
        "df16[cols] = df15[cols].str.replace('+','')\n",
        "df17[cols] = df15[cols].str.replace('+','')\n",
        "df18[cols] = df15[cols].str.replace('+','')"
      ]
    },
    {
      "cell_type": "code",
      "metadata": {
        "id": "e4NDtuPTWJnu"
      },
      "source": [
        ""
      ],
      "execution_count": null,
      "outputs": []
    },
    {
      "cell_type": "code",
      "metadata": {
        "ExecuteTime": {
          "end_time": "2020-11-07T15:04:27.190931Z",
          "start_time": "2020-11-07T15:04:26.831Z"
        },
        "id": "tvvQ0PQbPyKj"
      },
      "source": [
        "cols=['ls','st','rs','lw','lf','cf','rf','rw','lam','cam','ram','lm','lcm','cm','rcm','rm','lwb','ldm','cdm','rdm','rwb','lb','lcb','cb','rcb','rb'] "
      ],
      "execution_count": 20,
      "outputs": []
    },
    {
      "cell_type": "code",
      "metadata": {
        "ExecuteTime": {
          "end_time": "2020-11-07T15:04:27.192787Z",
          "start_time": "2020-11-07T15:04:27.003Z"
        },
        "id": "7kAvpOI_PyKp"
      },
      "source": [
        "DF.drop(cols, axis=1, inplace=True)"
      ],
      "execution_count": 21,
      "outputs": []
    },
    {
      "cell_type": "markdown",
      "metadata": {
        "id": "D6WmRVptPyKs"
      },
      "source": [
        "### Nan - numeric"
      ]
    },
    {
      "cell_type": "code",
      "metadata": {
        "ExecuteTime": {
          "end_time": "2020-11-07T15:04:27.381040Z",
          "start_time": "2020-11-07T15:04:27.376193Z"
        },
        "id": "_A1cf6u8PyKs"
      },
      "source": [
        " def impute_df(df):\n",
        "    cols1 = df.select_dtypes([np.number]).columns\n",
        "    cols2 = df.select_dtypes(exclude = [np.number]).columns\n",
        "    df[cols1] = df[cols1].fillna(df[cols1].median())\n",
        "    df[cols2] = df[cols2].fillna(df[cols2].mode().iloc[0])"
      ],
      "execution_count": 22,
      "outputs": []
    },
    {
      "cell_type": "code",
      "metadata": {
        "ExecuteTime": {
          "end_time": "2020-11-07T15:04:28.321856Z",
          "start_time": "2020-11-07T15:04:28.135392Z"
        },
        "id": "bOiveGOaPyKv"
      },
      "source": [
        "impute_df(DF)\n"
      ],
      "execution_count": 23,
      "outputs": []
    },
    {
      "cell_type": "markdown",
      "metadata": {
        "ExecuteTime": {
          "end_time": "2020-11-06T10:34:19.834031Z",
          "start_time": "2020-11-06T10:34:19.758391Z"
        },
        "id": "v2otVqQtPyKy"
      },
      "source": [
        "### Nuovo Dataset"
      ]
    },
    {
      "cell_type": "markdown",
      "metadata": {
        "id": "GNiTWLLnPyKy"
      },
      "source": [
        "### Log Trasf"
      ]
    },
    {
      "cell_type": "code",
      "metadata": {
        "ExecuteTime": {
          "end_time": "2020-11-07T15:04:28.908267Z",
          "start_time": "2020-11-07T15:04:28.893304Z"
        },
        "id": "ZoXDys24PyKz"
      },
      "source": [
        "DF['y'] = DF['y']/1000\n",
        "DF['value_eur'] = DF['value_eur']/1000\n",
        "DF['wage_eur'] = DF['wage_eur']/1000\n",
        "\n",
        "\n",
        "#DF['y'] = np.log(DF['y'])\n",
        "#DF['value_eur'] = np.log(DF['value_eur'])\n",
        "#DF['wage_eur'] = np.log(DF['wage_eur'])"
      ],
      "execution_count": 24,
      "outputs": []
    },
    {
      "cell_type": "code",
      "metadata": {
        "ExecuteTime": {
          "end_time": "2020-11-07T15:04:29.401087Z",
          "start_time": "2020-11-07T15:04:29.084182Z"
        },
        "id": "lBGioFp6PyK2",
        "outputId": "abe8be92-9b6b-4216-bc04-b56432610ac5",
        "colab": {
          "base_uri": "https://localhost:8080/"
        }
      },
      "source": [
        "DF.dtypes"
      ],
      "execution_count": 25,
      "outputs": [
        {
          "output_type": "execute_result",
          "data": {
            "text/plain": [
              "sofifa_id                    int64\n",
              "ANNO                        object\n",
              "player_url                  object\n",
              "short_name                  object\n",
              "long_name                   object\n",
              "                            ...   \n",
              "goalkeeping_handling         int64\n",
              "goalkeeping_kicking          int64\n",
              "goalkeeping_positioning      int64\n",
              "goalkeeping_reflexes         int64\n",
              "y                          float64\n",
              "Length: 69, dtype: object"
            ]
          },
          "metadata": {
            "tags": []
          },
          "execution_count": 25
        }
      ]
    },
    {
      "cell_type": "markdown",
      "metadata": {
        "id": "fm2oeNbCPyK5"
      },
      "source": [
        "### Hone-Hot"
      ]
    },
    {
      "cell_type": "code",
      "metadata": {
        "ExecuteTime": {
          "end_time": "2020-11-07T15:04:29.438330Z",
          "start_time": "2020-11-07T15:04:29.428984Z"
        },
        "id": "tgZbBohoPyK5"
      },
      "source": [
        "DF['preferred_foot'] = np.where(DF['preferred_foot']== 'Right', 1, 0)\n",
        "DF['real_face'] = np.where(DF['real_face']== 'Yes', 1, 0)"
      ],
      "execution_count": 26,
      "outputs": []
    },
    {
      "cell_type": "code",
      "metadata": {
        "id": "hx6p3mkYqjnE"
      },
      "source": [
        ""
      ],
      "execution_count": null,
      "outputs": []
    },
    {
      "cell_type": "markdown",
      "metadata": {
        "ExecuteTime": {
          "end_time": "2020-11-06T11:44:43.134760Z",
          "start_time": "2020-11-06T11:44:43.043703Z"
        },
        "id": "eg9PH0zBPyK8"
      },
      "source": [
        "### Datetime"
      ]
    },
    {
      "cell_type": "code",
      "metadata": {
        "ExecuteTime": {
          "end_time": "2020-11-07T15:04:30.374010Z",
          "start_time": "2020-11-07T15:04:30.370984Z"
        },
        "id": "zOyEtre9PyK9"
      },
      "source": [
        "from datetime import date\n",
        "import datetime"
      ],
      "execution_count": 27,
      "outputs": []
    },
    {
      "cell_type": "code",
      "metadata": {
        "ExecuteTime": {
          "end_time": "2020-11-07T15:04:30.960123Z",
          "start_time": "2020-11-07T15:04:30.949956Z"
        },
        "id": "HcnNfEEmPyK_"
      },
      "source": [
        "DF['dob'] = pd.DatetimeIndex(DF['dob']).year\n",
        "DF['joined'] = pd.DatetimeIndex(DF['joined']).year"
      ],
      "execution_count": 28,
      "outputs": []
    },
    {
      "cell_type": "code",
      "metadata": {
        "ExecuteTime": {
          "end_time": "2020-11-07T15:04:31.155395Z",
          "start_time": "2020-11-07T15:04:31.121953Z"
        },
        "id": "2lxrIXQIPyLB"
      },
      "source": [
        "from sklearn.preprocessing import LabelEncoder\n",
        "\n",
        "labelencoder_Nat = LabelEncoder()\n",
        "DF['nationality'] = labelencoder_Nat.fit_transform(DF['nationality'])\n",
        "\n",
        "labelencoder_Club = LabelEncoder()\n",
        "DF['club_name'] = labelencoder_Club.fit_transform(DF['club_name'])\n",
        "\n",
        "labelencoder_league = LabelEncoder()\n",
        "DF['league_name'] = labelencoder_league.fit_transform(DF['league_name'])\n",
        "\n",
        "labelencoder_pos = LabelEncoder()\n",
        "DF['player_positions'] = labelencoder_pos.fit_transform(DF['player_positions'])\n",
        "\n",
        "labelencoder_team = LabelEncoder()\n",
        "DF['team_position'] = labelencoder_team.fit_transform(DF['team_position'])\n",
        "\n",
        "labelencoder_work = LabelEncoder()\n",
        "DF['work_rate'] = labelencoder_work.fit_transform(DF['work_rate'])\n",
        "\n",
        "labelencoder_body = LabelEncoder()\n",
        "DF['body_type'] = labelencoder_body.fit_transform(DF['body_type'])"
      ],
      "execution_count": 29,
      "outputs": []
    },
    {
      "cell_type": "markdown",
      "metadata": {
        "id": "AswH3tCSPyLF"
      },
      "source": [
        "### Ultimi Drop"
      ]
    },
    {
      "cell_type": "code",
      "metadata": {
        "ExecuteTime": {
          "end_time": "2020-11-07T15:04:31.489575Z",
          "start_time": "2020-11-07T15:04:31.447785Z"
        },
        "id": "tJ0CR9kwPyLG"
      },
      "source": [
        "dropcol=['player_url','short_name','long_name']\n",
        "DF.drop(dropcol, axis=1, inplace=True)"
      ],
      "execution_count": 30,
      "outputs": []
    },
    {
      "cell_type": "markdown",
      "metadata": {
        "id": "9yuULMCUPyLI"
      },
      "source": [
        "### Divisione Dataframe"
      ]
    },
    {
      "cell_type": "code",
      "metadata": {
        "ExecuteTime": {
          "end_time": "2020-11-07T15:04:32.378090Z",
          "start_time": "2020-11-07T15:04:32.343037Z"
        },
        "id": "bhjTAVBzPyLI"
      },
      "source": [
        "DF['ANNO']=DF['ANNO'].astype(str).astype(int)"
      ],
      "execution_count": 31,
      "outputs": []
    },
    {
      "cell_type": "code",
      "metadata": {
        "ExecuteTime": {
          "end_time": "2020-11-07T15:04:32.536230Z",
          "start_time": "2020-11-07T15:04:32.502076Z"
        },
        "id": "iUHPLKHgPyLK"
      },
      "source": [
        "DF15 = DF[DF['ANNO'] == 2015]\n",
        "DF16 = DF[DF['ANNO'] == 2016]\n",
        "DF17 = DF[DF['ANNO'] == 2017]\n",
        "DF18 = DF[DF['ANNO'] == 2018]\n",
        "DF15_16=DF[DF['ANNO'] <= 2016]\n",
        "DF5_6_7=DF[DF['ANNO'] <= 2017]"
      ],
      "execution_count": 32,
      "outputs": []
    },
    {
      "cell_type": "code",
      "metadata": {
        "ExecuteTime": {
          "end_time": "2020-11-07T15:04:32.711024Z",
          "start_time": "2020-11-07T15:04:32.672498Z"
        },
        "id": "WeSW3HLnPyLM"
      },
      "source": [
        "DF15 = DF15.copy()\n",
        "DF16 = DF16.copy()\n",
        "DF17 = DF17.copy()\n",
        "DF18 = DF18.copy()\n",
        "\n",
        "DF15_16 = DF15_16.copy()\n",
        "DF5_6_7 = DF5_6_7.copy()"
      ],
      "execution_count": 33,
      "outputs": []
    },
    {
      "cell_type": "code",
      "metadata": {
        "ExecuteTime": {
          "end_time": "2020-11-07T15:04:33.358916Z",
          "start_time": "2020-11-07T15:04:33.334064Z"
        },
        "id": "PMtADam7PyLP"
      },
      "source": [
        "DF15.drop(['ANNO'], axis=1,inplace=True)\n",
        "DF16.drop(['ANNO'], axis=1,inplace=True)\n",
        "DF17.drop(['ANNO'], axis=1,inplace=True)\n",
        "DF18.drop(['ANNO'], axis=1,inplace=True)\n",
        "\n",
        "DF15_16.drop(['ANNO'], axis=1,inplace=True)\n",
        "DF5_6_7.drop(['ANNO'], axis=1,inplace=True)"
      ],
      "execution_count": 34,
      "outputs": []
    },
    {
      "cell_type": "code",
      "metadata": {
        "ExecuteTime": {
          "end_time": "2020-11-07T15:04:33.795666Z",
          "start_time": "2020-11-07T15:04:33.786270Z"
        },
        "id": "GAeFoYErPyLR",
        "outputId": "9d50c55a-ac0d-4304-e39c-17087c810cca",
        "colab": {
          "base_uri": "https://localhost:8080/",
          "height": 164
        }
      },
      "source": [
        "DF17.shape"
      ],
      "execution_count": 4,
      "outputs": [
        {
          "output_type": "error",
          "ename": "NameError",
          "evalue": "ignored",
          "traceback": [
            "\u001b[0;31m---------------------------------------------------------------------------\u001b[0m",
            "\u001b[0;31mNameError\u001b[0m                                 Traceback (most recent call last)",
            "\u001b[0;32m<ipython-input-4-5e7e0c1f25f0>\u001b[0m in \u001b[0;36m<module>\u001b[0;34m()\u001b[0m\n\u001b[0;32m----> 1\u001b[0;31m \u001b[0mDF17\u001b[0m\u001b[0;34m.\u001b[0m\u001b[0mshape\u001b[0m\u001b[0;34m\u001b[0m\u001b[0;34m\u001b[0m\u001b[0m\n\u001b[0m",
            "\u001b[0;31mNameError\u001b[0m: name 'DF17' is not defined"
          ]
        }
      ]
    },
    {
      "cell_type": "code",
      "metadata": {
        "ExecuteTime": {
          "end_time": "2020-11-07T15:04:34.238389Z",
          "start_time": "2020-11-07T15:04:34.161613Z"
        },
        "id": "7YmTjL4hPyLT"
      },
      "source": [
        "DF16"
      ],
      "execution_count": null,
      "outputs": []
    },
    {
      "cell_type": "markdown",
      "metadata": {
        "ExecuteTime": {
          "end_time": "2020-11-06T14:16:14.327082Z",
          "start_time": "2020-11-06T14:16:14.289791Z"
        },
        "id": "-5bP9gP2PyLV"
      },
      "source": [
        "# Primo modello - Train 2015, Test 2016"
      ]
    },
    {
      "cell_type": "code",
      "metadata": {
        "ExecuteTime": {
          "end_time": "2020-11-07T14:31:09.517854Z",
          "start_time": "2020-11-07T14:31:09.504688Z"
        },
        "id": "qqUOaRbCPyLW",
        "outputId": "367dd6f8-59d7-46ac-fd3b-364ed39b0f57",
        "colab": {
          "base_uri": "https://localhost:8080/"
        }
      },
      "source": [
        "X_train=DF15_16.drop('y',axis=1)\n",
        "y_train=DF15_16.y\n",
        "X_test=DF17.drop('y',axis=1)\n",
        "y_test=DF17.y\n",
        "X_train.shape, y_train.shape, X_test.shape, y_test.shape"
      ],
      "execution_count": 35,
      "outputs": [
        {
          "output_type": "execute_result",
          "data": {
            "text/plain": [
              "((17129, 64), (17129,), (9543, 64), (9543,))"
            ]
          },
          "metadata": {
            "tags": []
          },
          "execution_count": 35
        }
      ]
    },
    {
      "cell_type": "code",
      "metadata": {
        "ExecuteTime": {
          "end_time": "2020-11-07T15:04:27.013769Z",
          "start_time": "2020-11-07T14:33:44.131443Z"
        },
        "id": "xuT5xFTaPyLY",
        "outputId": "0d4cce73-8bd0-42f3-f4a6-f408da679ac5",
        "colab": {
          "base_uri": "https://localhost:8080/"
        }
      },
      "source": [
        "modelXGB = XGBClassifier(n_estimators=500, max_depth=4, learning_rate=0.1, reg_lambda=5,n_jobs=-1)\n",
        "modelXGB.fit(X_train, y_train)"
      ],
      "execution_count": 36,
      "outputs": [
        {
          "output_type": "execute_result",
          "data": {
            "text/plain": [
              "XGBClassifier(base_score=0.5, booster='gbtree', colsample_bylevel=1,\n",
              "              colsample_bynode=1, colsample_bytree=1, gamma=0,\n",
              "              learning_rate=0.1, max_delta_step=0, max_depth=4,\n",
              "              min_child_weight=1, missing=None, n_estimators=500, n_jobs=-1,\n",
              "              nthread=None, objective='multi:softprob', random_state=0,\n",
              "              reg_alpha=0, reg_lambda=5, scale_pos_weight=1, seed=None,\n",
              "              silent=None, subsample=1, verbosity=1)"
            ]
          },
          "metadata": {
            "tags": []
          },
          "execution_count": 36
        }
      ]
    },
    {
      "cell_type": "code",
      "metadata": {
        "ExecuteTime": {
          "end_time": "2020-11-07T15:04:27.018414Z",
          "start_time": "2020-11-07T14:33:45.334Z"
        },
        "id": "3R8PDH1OPyLa"
      },
      "source": [
        "y_pred = modelXGB.predict(X_test)"
      ],
      "execution_count": 37,
      "outputs": []
    },
    {
      "cell_type": "code",
      "metadata": {
        "ExecuteTime": {
          "end_time": "2020-11-07T15:04:27.022029Z",
          "start_time": "2020-11-07T14:33:46.123Z"
        },
        "id": "a996rn8wPyLb"
      },
      "source": [
        "import sklearn.metrics as metrics\n",
        "def regression_results(y_true, y_pred):\n",
        "\n",
        "    explained_variance=metrics.explained_variance_score(y_true, y_pred)\n",
        "    mean_absolute_error=metrics.mean_absolute_error(y_true, y_pred) \n",
        "    mse=metrics.mean_squared_error(y_true, y_pred) \n",
        "    median_absolute_error=metrics.median_absolute_error(y_true, y_pred)\n",
        "    r2=metrics.r2_score(y_true, y_pred)\n",
        "\n",
        "    print('explained_variance: ', round(explained_variance,4))    \n",
        "    print('r2: ', round(r2,4))\n",
        "    print('MAE: ', round(mean_absolute_error,4))\n",
        "    print('MSE: ', round(mse,4))\n",
        "    print('RMSE: ', round(np.sqrt(mse),4))"
      ],
      "execution_count": 38,
      "outputs": []
    },
    {
      "cell_type": "code",
      "metadata": {
        "ExecuteTime": {
          "end_time": "2020-11-07T15:04:27.024906Z",
          "start_time": "2020-11-07T14:33:46.683Z"
        },
        "id": "ymeAvi42PyLd",
        "outputId": "47b389d7-baab-4f40-c669-ee4c9421f5d8",
        "colab": {
          "base_uri": "https://localhost:8080/"
        }
      },
      "source": [
        "regression_results(y_test, y_pred)"
      ],
      "execution_count": 39,
      "outputs": [
        {
          "output_type": "stream",
          "text": [
            "explained_variance:  0.6193\n",
            "r2:  0.6187\n",
            "MAE:  1951.3346\n",
            "MSE:  19771893.9113\n",
            "RMSE:  4446.5598\n"
          ],
          "name": "stdout"
        }
      ]
    },
    {
      "cell_type": "code",
      "metadata": {
        "id": "GLEDon_fPyLf"
      },
      "source": [
        "feat_importances = pd.Series(modelXGB.feature_importances_, index=X_train.columns)"
      ],
      "execution_count": 40,
      "outputs": []
    },
    {
      "cell_type": "code",
      "metadata": {
        "id": "uNXXu0lVPyLj"
      },
      "source": [
        "feat_importances.sort_values(ascending=False, inplace=True)"
      ],
      "execution_count": 41,
      "outputs": []
    },
    {
      "cell_type": "code",
      "metadata": {
        "id": "uYijLKS4A2PR",
        "outputId": "bb51f88b-1758-413a-d34b-cefa607987d6",
        "colab": {
          "base_uri": "https://localhost:8080/"
        }
      },
      "source": [
        "feat_importances"
      ],
      "execution_count": 42,
      "outputs": [
        {
          "output_type": "execute_result",
          "data": {
            "text/plain": [
              "potential               0.052633\n",
              "age                     0.032452\n",
              "overall                 0.029080\n",
              "value_eur               0.026063\n",
              "dob                     0.025832\n",
              "                          ...   \n",
              "team_position           0.012504\n",
              "preferred_foot          0.012362\n",
              "body_type               0.012135\n",
              "contract_valid_until    0.012068\n",
              "real_face               0.011377\n",
              "Length: 64, dtype: float32"
            ]
          },
          "metadata": {
            "tags": []
          },
          "execution_count": 42
        }
      ]
    },
    {
      "cell_type": "code",
      "metadata": {
        "id": "zCNT_m6oA32_"
      },
      "source": [
        "to_keep=feat_importances[feat_importances>0.01].index"
      ],
      "execution_count": 43,
      "outputs": []
    },
    {
      "cell_type": "code",
      "metadata": {
        "id": "Vurfmae8A8sy",
        "outputId": "4817faca-9e22-43ca-cf55-6f6b6bd9d1b3",
        "colab": {
          "base_uri": "https://localhost:8080/"
        }
      },
      "source": [
        "to_keep"
      ],
      "execution_count": 44,
      "outputs": [
        {
          "output_type": "execute_result",
          "data": {
            "text/plain": [
              "Index(['potential', 'age', 'overall', 'value_eur', 'dob', 'wage_eur',\n",
              "       'defending', 'skill_dribbling', 'shooting', 'dribbling',\n",
              "       'skill_ball_control', 'player_positions', 'movement_reactions',\n",
              "       'attacking_crossing', 'passing', 'attacking_short_passing',\n",
              "       'attacking_finishing', 'skill_curve', 'mentality_positioning',\n",
              "       'league_rank', 'power_long_shots', 'nationality',\n",
              "       'defending_sliding_tackle', 'league_name', 'defending_marking',\n",
              "       'mentality_vision', 'work_rate', 'power_shot_power', 'physic',\n",
              "       'mentality_interceptions', 'attacking_heading_accuracy',\n",
              "       'skill_fk_accuracy', 'power_stamina', 'sofifa_id', 'skill_moves',\n",
              "       'defending_standing_tackle', 'mentality_penalties', 'attacking_volleys',\n",
              "       'movement_sprint_speed', 'goalkeeping_reflexes', 'movement_agility',\n",
              "       'height_cm', 'pace', 'goalkeeping_diving', 'mentality_aggression',\n",
              "       'movement_acceleration', 'team_jersey_number', 'movement_balance',\n",
              "       'goalkeeping_positioning', 'power_jumping', 'power_strength',\n",
              "       'skill_long_passing', 'weight_kg', 'international_reputation',\n",
              "       'goalkeeping_kicking', 'joined', 'club_name', 'goalkeeping_handling',\n",
              "       'weak_foot', 'team_position', 'preferred_foot', 'body_type',\n",
              "       'contract_valid_until', 'real_face'],\n",
              "      dtype='object')"
            ]
          },
          "metadata": {
            "tags": []
          },
          "execution_count": 44
        }
      ]
    },
    {
      "cell_type": "code",
      "metadata": {
        "id": "JecrEo2wA-4U",
        "outputId": "d94c3713-196a-4bad-c9d9-a6105ac046b7",
        "colab": {
          "base_uri": "https://localhost:8080/"
        }
      },
      "source": [
        "X_train2=DF15_16[to_keep]\n",
        "y_train2=DF15_16.y\n",
        "X_test2=DF17[to_keep]\n",
        "y_test2=DF17.y\n",
        "X_train2.shape, y_train2.shape, X_test2.shape, y_test2.shape"
      ],
      "execution_count": 45,
      "outputs": [
        {
          "output_type": "execute_result",
          "data": {
            "text/plain": [
              "((17129, 64), (17129,), (9543, 64), (9543,))"
            ]
          },
          "metadata": {
            "tags": []
          },
          "execution_count": 45
        }
      ]
    },
    {
      "cell_type": "code",
      "metadata": {
        "id": "4hpLShv1BWXQ"
      },
      "source": [
        "modelXGB2 = XGBClassifier(n_estimators=1000, max_depth=4, learning_rate=0.1, reg_lambda=0,n_jobs=-1)\n",
        "modelXGB2.fit(X_train2, y_train2)"
      ],
      "execution_count": null,
      "outputs": []
    },
    {
      "cell_type": "code",
      "metadata": {
        "id": "2jNBtEbUB4cb"
      },
      "source": [
        "y_pred2 = modelXGB2.predict(X_test2)"
      ],
      "execution_count": null,
      "outputs": []
    },
    {
      "cell_type": "code",
      "metadata": {
        "id": "oYJ--7DvB8oA"
      },
      "source": [
        "regression_results(y_test2, y_pred2)"
      ],
      "execution_count": null,
      "outputs": []
    },
    {
      "cell_type": "code",
      "metadata": {
        "id": "N42beWRRCC8w"
      },
      "source": [
        ""
      ],
      "execution_count": null,
      "outputs": []
    }
  ]
}